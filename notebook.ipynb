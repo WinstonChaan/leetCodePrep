{
 "cells": [
  {
   "cell_type": "code",
   "execution_count": null,
   "metadata": {},
   "outputs": [],
   "source": [
    "class Solution:\n",
    "    def runningSum(self, nums: list[int]) -> list[int]:\n",
    "        sortedList = nums[0]\n",
    "        dictionary = [sortedList]\n",
    "        for i in range(1,len(nums)):\n",
    "            sortedList += nums[i]\n",
    "            dictionary.append(sortedList)\n",
    "        return(dictionary)\n",
    "        \n",
    "Solution.runningSum(Solution,[1,2,3,4])"
   ]
  },
  {
   "cell_type": "code",
   "execution_count": null,
   "metadata": {},
   "outputs": [],
   "source": [
    "class Solution:\n",
    "    def pivotIndesortedList(self, nums: list[int]) -> int:\n",
    "        for i in range(len(nums)):\n",
    "            left = nums[:i]\n",
    "            sumleft = sum(left)\n",
    "            right = nums[i + 1:]\n",
    "            sumright = sum(right)\n",
    "            if sumleft == sumright:\n",
    "                return i\n",
    "        return -1\n",
    "\n",
    "Solution.pivotIndesortedList(Solution,[1,7,3,6,5,6])"
   ]
  },
  {
   "cell_type": "markdown",
   "metadata": {},
   "source": [
    "WAY FASTER THAN ABOVE METHOD"
   ]
  },
  {
   "cell_type": "code",
   "execution_count": null,
   "metadata": {},
   "outputs": [],
   "source": [
    "class Solution:\n",
    "    def pivotIndesortedList(self, nums: list[int]) -> int:\n",
    "        sumleft = sum(nums[:0])\n",
    "        sumright = sum(nums[1:])\n",
    "        if sumleft == sumright:\n",
    "            return 0\n",
    "        for i in range(0,len(nums) - 1):\n",
    "            sumleft += nums[i]\n",
    "            sumright -= nums[i + 1]\n",
    "            if sumleft == sumright:\n",
    "                return i + 1\n",
    "        return -1\n",
    "\n",
    "Solution.pivotIndesortedList(Solution,[1,7,3,6,5,6])"
   ]
  },
  {
   "cell_type": "code",
   "execution_count": null,
   "metadata": {},
   "outputs": [],
   "source": [
    "class Solution:\n",
    "    def isIsomorphic(self, s: str, t: str) -> bool:\n",
    "        sortedList = {}\n",
    "        dictionary = True\n",
    "        for i in range(len(s)):\n",
    "            if s[i] not in sortedList:\n",
    "                sortedList[s[i]] = t[i]\n",
    "            else:\n",
    "                if sortedList.get(s[i]) == t[i]:\n",
    "                    dictionary = True\n",
    "                else:\n",
    "                    return False \n",
    "        if len(set(sortedList.values())) != len(set(sortedList.keys())):\n",
    "            return False\n",
    "        return dictionary\n",
    "\n",
    "Solution.isIsomorphic(Solution,'paper','title')"
   ]
  },
  {
   "cell_type": "code",
   "execution_count": null,
   "metadata": {},
   "outputs": [],
   "source": [
    "class Solution:\n",
    "    def isSubsequence(self, s: str, t: str) -> bool:\n",
    "        a,b = 0,0\n",
    "        while a < len(s) and b < len(t):\n",
    "            if s[a] == t[b]:\n",
    "                a+= 1\n",
    "                b+= 1\n",
    "            else:\n",
    "                b+=1\n",
    "        if a == len(s):\n",
    "            return True\n",
    "        else:\n",
    "            return False \n",
    "            \n",
    "Solution.isSubsequence(Solution,'asdasd','')\n"
   ]
  },
  {
   "cell_type": "code",
   "execution_count": null,
   "metadata": {},
   "outputs": [],
   "source": [
    "class Solution:\n",
    "    def masortedListProfit(self, prices: list[int]) -> int:\n",
    "        i,j,dictionary = 0,1,0\n",
    "        while j < len(prices):\n",
    "            if prices[i] < prices[j]:\n",
    "                dictionary =  masortedList(dictionary,prices[j] - prices[i])\n",
    "            else:\n",
    "                i = j\n",
    "            j+=1\n",
    "        return dictionary\n",
    "\n",
    "Solution.masortedListProfit(Solution,[7,1,5,3,6,4])"
   ]
  },
  {
   "cell_type": "code",
   "execution_count": null,
   "metadata": {},
   "outputs": [],
   "source": [
    "class Solution:\n",
    "    def isValid(self, s):\n",
    "        stack = []\n",
    "        dict = {\"]\":\"[\", \"}\":\"{\", \")\":\"(\"}\n",
    "        for i in s:\n",
    "            if i in dict.values():\n",
    "                stack.append(i)\n",
    "            elif i in dict.keys():\n",
    "                if stack == [] or dict[i] != stack.pop():\n",
    "                    return False\n",
    "            else:\n",
    "                return False\n",
    "        return stack == []\n",
    "\n",
    "\n",
    "Solution.isValid(Solution,'([}}])')"
   ]
  },
  {
   "cell_type": "code",
   "execution_count": null,
   "metadata": {},
   "outputs": [],
   "source": [
    "class Solution:\n",
    "    def reverseList(self, head: Optional[ListNode]) -> Optional[ListNode]:\n",
    "        prev = None\n",
    "        while head:\n",
    "            current = head\n",
    "            head = head.nesortedListt\n",
    "            current.nesortedListt = prev\n",
    "            prev = current\n",
    "        return prev"
   ]
  },
  {
   "cell_type": "code",
   "execution_count": null,
   "metadata": {},
   "outputs": [],
   "source": [
    "#String ends with?\n",
    "def solution(string, ending):\n",
    "    if string[len(string) - len(ending):] == ending or len(ending) == 0:\n",
    "        return True\n",
    "    else:\n",
    "        return False\n",
    "\n",
    "solution('ninja', 'ja') "
   ]
  },
  {
   "cell_type": "code",
   "execution_count": null,
   "metadata": {},
   "outputs": [],
   "source": [
    "def validate_pin(pin):\n",
    "    if len(pin) == 6 or len(pin) == 4 and pin.isdigit():\n",
    "        return True\n",
    "    else: \n",
    "        return False\n",
    "validate_pin('-123')"
   ]
  },
  {
   "cell_type": "code",
   "execution_count": null,
   "metadata": {},
   "outputs": [],
   "source": [
    "class Solution:\n",
    "    def mergeTwoLists(self, a, b):\n",
    "        if a and b:\n",
    "            if a.val > b.val:\n",
    "                a, b = b, a\n",
    "            a.nesortedListt = self.mergeTwoLists(a.nesortedListt, b)\n",
    "        return a or b"
   ]
  },
  {
   "cell_type": "code",
   "execution_count": null,
   "metadata": {},
   "outputs": [],
   "source": [
    "class Solution:\n",
    "    def containsDuplicate(self, nums: list[int]) -> bool:\n",
    "        if len(set(nums)) == len(nums):\n",
    "            return False\n",
    "        else:\n",
    "            return True\n",
    "\n",
    "Solution.containsDuplicate(Solution,[1,2,3,4,1])"
   ]
  },
  {
   "cell_type": "code",
   "execution_count": null,
   "metadata": {},
   "outputs": [],
   "source": [
    "class Solution:\n",
    "    def isIsomorphic(self, s: str, t: str) -> bool:\n",
    "        sortedList = {}\n",
    "        dictionary = True\n",
    "        for i in range(len(s)):\n",
    "            if s[i] not in sortedList:\n",
    "                sortedList[s[i]] = t[i]\n",
    "            else:\n",
    "                if sortedList.get(s[i]) == t[i]:\n",
    "                    dictionary = True\n",
    "                else:\n",
    "                    return False \n",
    "        if len(set(sortedList.values())) != len(set(sortedList.keys())):\n",
    "            return False\n",
    "        return dictionary"
   ]
  },
  {
   "cell_type": "code",
   "execution_count": null,
   "metadata": {},
   "outputs": [],
   "source": [
    "def divisors(integer):\n",
    "    dictionary = []\n",
    "    for i in range(2, integer):\n",
    "        if(integer % i == 0):\n",
    "            dictionary.append(i)\n",
    "    if len(dictionary) == 0:\n",
    "        return str(integer) + \" is prime\"\n",
    "    return dictionary\n",
    "\n",
    "divisors(234)"
   ]
  },
  {
   "cell_type": "code",
   "execution_count": null,
   "metadata": {},
   "outputs": [],
   "source": [
    "def find_outlier(integers):\n",
    "    dictionary = []\n",
    "    dictionary2 = []\n",
    "    for i in range(len(integers)):\n",
    "        if (integers[i] % 2 == 0):\n",
    "            dictionary.append(integers[i])\n",
    "        else:\n",
    "            dictionary2.append(integers[i])\n",
    "    if len(dictionary) == 1:\n",
    "        return dictionary[0]\n",
    "    elif len(dictionary2) == 1:\n",
    "        return dictionary2[0]"
   ]
  },
  {
   "cell_type": "code",
   "execution_count": null,
   "metadata": {},
   "outputs": [],
   "source": [
    "class Solution:\n",
    "    def longestCommonPrefisortedList(self, strs: list[str]) -> str:\n",
    "        res = ''\n",
    "        for i in range(len(strs[0])):\n",
    "            for j in strs:\n",
    "                if i == len(j) or j[i] == strs[0][i]:\n",
    "                    continue\n",
    "                else:\n",
    "                    return res\n",
    "            res += strs[0][i]\n",
    "\n",
    "\n",
    "Solution.longestCommonPrefisortedList(Solution, [\"flower\",\"flow\",\"flight\"])"
   ]
  },
  {
   "cell_type": "code",
   "execution_count": null,
   "metadata": {},
   "outputs": [],
   "source": [
    "class Solution:\n",
    "    def isAnagram(self, s: str, t: str) -> bool:\n",
    "        return sorted(s) == sorted(t)\n",
    "\n",
    "Solution.isAnagram(Solution, \"anagram\",'nagaram')"
   ]
  },
  {
   "cell_type": "code",
   "execution_count": null,
   "metadata": {},
   "outputs": [],
   "source": [
    "class Solution:\n",
    "    def twoSum(self, nums: list[int], target: int) -> list[int]:\n",
    "        dic = {}\n",
    "        for i in range(len(nums)):\n",
    "            need = target - nums[i]\n",
    "            if need not in dic:\n",
    "                dic[nums[i]] = i\n",
    "            else:\n",
    "                print(i, dic.get(need))\n",
    "            \n",
    "        print(dic)\n",
    "            \n",
    "\n",
    "Solution.twoSum(Solution, [2,7,11,15], 9)"
   ]
  },
  {
   "cell_type": "code",
   "execution_count": 40,
   "metadata": {},
   "outputs": [
    {
     "data": {
      "text/plain": [
       "dict_values([['eat', 'tea', 'ate'], ['tan', 'nat'], ['bat']])"
      ]
     },
     "execution_count": 40,
     "metadata": {},
     "output_type": "execute_result"
    }
   ],
   "source": [
    "class Solution:\n",
    "    def groupAnagrams(self, strs: list[str]) -> list[list[str]]:\n",
    "        dic = {''.join(sorted(strs[0])): [strs[0]]}\n",
    "        y = 1\n",
    "        sortedList = 0\n",
    "        while y < len(strs):\n",
    "            if ''.join(sorted(strs[y])) == ''.join(sorted(strs[sortedList])):\n",
    "                if ''.join(sorted(strs[sortedList])) in dic:\n",
    "                    dic[''.join(sorted(strs[sortedList]))].append(strs[y])\n",
    "                else:\n",
    "                    dic[''.join(sorted(strs[sortedList]))] = [strs[y]]\n",
    "                y+=1\n",
    "            else:\n",
    "                sortedList+=1\n",
    "        return(dic.values())\n",
    "    \n",
    "Solution.groupAnagrams(Solution, [\"eat\",\"tea\",\"tan\",\"ate\",\"nat\",\"bat\"])"
   ]
  },
  {
   "cell_type": "code",
   "execution_count": 255,
   "metadata": {},
   "outputs": [
    {
     "data": {
      "text/plain": [
       "[5]"
      ]
     },
     "execution_count": 255,
     "metadata": {},
     "output_type": "execute_result"
    }
   ],
   "source": [
    "class Solution:\n",
    "    def topKFrequent(self, nums: list[int], k: int) -> list[int]:\n",
    "        counter = 0\n",
    "        sortedList = sorted(nums)\n",
    "        dictionary = {sortedList[0] : counter}\n",
    "        for i in range(len(sortedList)):\n",
    "            if sortedList[i] in dictionary:\n",
    "                counter+=1\n",
    "                dictionary[sortedList[i]] = counter\n",
    "            else:\n",
    "                counter = 1\n",
    "                dictionary[sortedList[i]] = counter\n",
    "        realDic = {}\n",
    "        for (a,b) in dictionary.items():\n",
    "            if b in realDic.keys():\n",
    "                p = realDic.get(b)\n",
    "                p.append(a)\n",
    "                realDic[b] = p\n",
    "            else:\n",
    "                realDic[b] = [a]\n",
    "        mostOften = list(realDic.keys())\n",
    "        mostOften.sort(reverse=True)\n",
    "        ans = []\n",
    "        for j in range(len(mostOften)):\n",
    "            for s in realDic.get(mostOften[j]):\n",
    "                if len(ans) > k - 1:\n",
    "                    return ans\n",
    "                ans.append(s)\n",
    "            if len(ans) > k - 1:\n",
    "                return ans\n",
    "        return ans\n",
    "    \n",
    "Solution.topKFrequent(Solution, [4,1,-1,2,-1,2,3,5,5,5,5], 1)"
   ]
  },
  {
   "cell_type": "code",
   "execution_count": 50,
   "metadata": {},
   "outputs": [
    {
     "data": {
      "text/plain": [
       "4"
      ]
     },
     "execution_count": 50,
     "metadata": {},
     "output_type": "execute_result"
    }
   ],
   "source": [
    "class Solution:\n",
    "    def longestConsecutive(self, nums: list[int]) -> int:\n",
    "        numsSorted = sorted(set(nums))\n",
    "        ans, i, top = 1, 0, 0\n",
    "        if len(nums)==0:\n",
    "            return 0\n",
    "        while i < len(numsSorted) - 1:\n",
    "            if numsSorted[i] + 1 == numsSorted[i+1]:\n",
    "                ans += 1\n",
    "            else:\n",
    "                top = max(ans, top)\n",
    "                ans = 1\n",
    "            i+=1\n",
    "        return top\n",
    "\n",
    "Solution.longestConsecutive(Solution,[1,2,3,4,100,200])"
   ]
  },
  {
   "cell_type": "code",
   "execution_count": 216,
   "metadata": {},
   "outputs": [
    {
     "data": {
      "text/plain": [
       "[24, 12, 8, 6]"
      ]
     },
     "execution_count": 216,
     "metadata": {},
     "output_type": "execute_result"
    }
   ],
   "source": [
    "class Solution:\n",
    "    def productExceptSelf(self, nums: list[int]) -> list[int]:\n",
    "        res = [1] * (len(nums))\n",
    "        prefix = 1\n",
    "        for i in range(len(nums)):\n",
    "            res[i] = prefix\n",
    "            prefix *= nums[i]\n",
    "        postfix = 1\n",
    "        for i in range(len(nums) - 1, -1, -1):\n",
    "            res[i] *= postfix\n",
    "            postfix *= nums[i]\n",
    "        return res\n",
    "\n",
    "Solution.productExceptSelf(Solution,[1,2,3,4])        "
   ]
  },
  {
   "cell_type": "code",
   "execution_count": 24,
   "metadata": {},
   "outputs": [
    {
     "data": {
      "text/plain": [
       "False"
      ]
     },
     "execution_count": 24,
     "metadata": {},
     "output_type": "execute_result"
    }
   ],
   "source": [
    "class Solution:\n",
    "    def isPalindrome(self, s: str) -> bool:\n",
    "        x = ''.join(filter(str.isalnum, s)).lower()\n",
    "        i,j = 0,len(x) - 1\n",
    "        while i < j:\n",
    "            if x[i] == x[j]:\n",
    "                i+=1\n",
    "                j-=1\n",
    "            else:\n",
    "                return False\n",
    "        return True\n",
    "\n",
    "Solution.isPalindrome(Solution,'0p')"
   ]
  },
  {
   "cell_type": "code",
   "execution_count": 88,
   "metadata": {},
   "outputs": [
    {
     "data": {
      "text/plain": [
       "[[4, 2, 2],\n",
       " [-3, 0, 3],\n",
       " [-3, -1, 4],\n",
       " [-5, 2, 3],\n",
       " [-2, -1, 3],\n",
       " [-2, -2, 4],\n",
       " [-2, 0, 2],\n",
       " [-4, 0, 4]]"
      ]
     },
     "execution_count": 88,
     "metadata": {},
     "output_type": "execute_result"
    }
   ],
   "source": [
    "class Solution:\n",
    "    def threeSum(self, nums: list[int]) -> list[list[int]]:\n",
    "        ans = []\n",
    "        counter = 0\n",
    "        for p in sorted(nums):\n",
    "            if p == 0:\n",
    "                counter += 1\n",
    "        if counter > 2:\n",
    "            ans.append([0,0,0])\n",
    "        for i in nums:\n",
    "            temp = nums[:]\n",
    "            temp.remove(i)\n",
    "            for j in temp:\n",
    "                temp.remove(j)\n",
    "                for k in temp:\n",
    "                    counter = i + j\n",
    "                    if counter + k == 0:\n",
    "                        if sorted([i,j,k]) not in ans:\n",
    "                            ans.append(sorted([i,j,k]))\n",
    "        return ans\n",
    "\n",
    "Solution.threeSum(Solution, [-3,3,-1,3,4,2,-5,-2,-4,-5,2,-2,4,-5,2,4,0])"
   ]
  },
  {
   "cell_type": "code",
   "execution_count": 92,
   "metadata": {},
   "outputs": [
    {
     "data": {
      "text/plain": [
       "[[0, 0, 0]]"
      ]
     },
     "execution_count": 92,
     "metadata": {},
     "output_type": "execute_result"
    }
   ],
   "source": [
    "class Solution:\n",
    "    def threeSum(self, nums: list[int]) -> list[list[int]]:\n",
    "        ans = []\n",
    "        nums.sort()\n",
    "        counter = 0\n",
    "        for p in sorted(nums):\n",
    "            if p == 0:\n",
    "                counter += 1\n",
    "            if counter > 2:\n",
    "                ans.append([0,0,0])\n",
    "                break\n",
    "        for i in range(len(nums)):\n",
    "            if nums[i - 1] == nums[i]:\n",
    "                continue\n",
    "            l, r = i + 1, len(nums) - 1\n",
    "            counter = nums[i]\n",
    "            while l < r:\n",
    "                if counter + nums[l] + nums[r] < 0:\n",
    "                    l+=1\n",
    "                elif counter + nums[l] + nums[r] > 0:\n",
    "                    r-=1\n",
    "                else:\n",
    "                    if [nums[i],nums[l],nums[r]] not in ans:\n",
    "                        ans.append([nums[i],nums[l],nums[r]])\n",
    "                    l+=1\n",
    "        return ans\n",
    "\n",
    "Solution.threeSum(Solution, [0,0,0])\n"
   ]
  },
  {
   "cell_type": "code",
   "execution_count": 185,
   "metadata": {},
   "outputs": [
    {
     "data": {
      "text/plain": [
       "49"
      ]
     },
     "execution_count": 185,
     "metadata": {},
     "output_type": "execute_result"
    }
   ],
   "source": [
    "class Solution:\n",
    "    def maxArea(self, height: list[int]) -> int:\n",
    "        l,r,ans = 0, len(height) - 1, 0\n",
    "        while l < r:\n",
    "            temp = (r - l) * min(height[l],height[r])\n",
    "            ans = max(temp, ans)\n",
    "            if max(height[l],height[r]) == height[r]:\n",
    "                l+=1\n",
    "            else:\n",
    "                r-=1\n",
    "        return ans\n",
    "\n",
    "Solution.maxArea(Solution, [1,8,6,2,5,4,8,3,7])\n"
   ]
  },
  {
   "cell_type": "code",
   "execution_count": 39,
   "metadata": {},
   "outputs": [
    {
     "data": {
      "text/plain": [
       "2"
      ]
     },
     "execution_count": 39,
     "metadata": {},
     "output_type": "execute_result"
    }
   ],
   "source": [
    "class Solution:\n",
    "    def maxProfit(self, prices: list[int]) -> int:\n",
    "        l,r,ans = 0,1,0\n",
    "        buy = prices[0]\n",
    "        while r < len(prices):\n",
    "            buy = min(prices[l], buy)\n",
    "            profit = prices[r] - buy\n",
    "            ans = max(ans, profit)\n",
    "            l+=1\n",
    "            r+=1\n",
    "        return ans\n",
    "\n",
    "Solution.maxProfit(Solution,\n",
    "[2,1,2,1,0,1,2])"
   ]
  },
  {
   "cell_type": "code",
   "execution_count": 2,
   "metadata": {},
   "outputs": [
    {
     "data": {
      "text/plain": [
       "2"
      ]
     },
     "execution_count": 2,
     "metadata": {},
     "output_type": "execute_result"
    }
   ],
   "source": [
    "class Solution:\n",
    "    def maxProfit(self, prices: list[int]) -> int:\n",
    "        l, ans = 0, 0 \n",
    "        for i in range(1, len(prices)):\n",
    "            if prices[i] < prices[l]:\n",
    "                l = i\n",
    "            ans = max(prices[i] - prices[l], ans)\n",
    "        return ans\n",
    "\n",
    "Solution.maxProfit(Solution,[2,1,2,1,0,1,2])"
   ]
  },
  {
   "cell_type": "code",
   "execution_count": 22,
   "metadata": {},
   "outputs": [
    {
     "data": {
      "text/plain": [
       "2"
      ]
     },
     "execution_count": 22,
     "metadata": {},
     "output_type": "execute_result"
    }
   ],
   "source": [
    "class Solution:\n",
    "    def lengthOfLongestSubstring(self, s: str) -> int:\n",
    "        charSet = set()\n",
    "        l = 0\n",
    "        res = 0\n",
    "        for r in range(len(s)):\n",
    "            while s[r] in charSet:\n",
    "                charSet.remove(s[l])\n",
    "                l += 1\n",
    "            charSet.add(s[r])\n",
    "            res = max(res, r - l + 1)\n",
    "        return res\n",
    "\n",
    "Solution.lengthOfLongestSubstring(Solution, \"abcabcbb\")"
   ]
  },
  {
   "cell_type": "code",
   "execution_count": 12,
   "metadata": {},
   "outputs": [
    {
     "name": "stdout",
     "output_type": "stream",
     "text": [
      "5\n"
     ]
    }
   ],
   "source": [
    "class Solution:\n",
    "    def characterReplacement(self, s: str, k: int) -> int:\n",
    "        l,ans,topf, dic = 0,0,0, {}\n",
    "        for r in range(len(s)):\n",
    "            dic[s[r]] = 1 + dic.get(s[r], 0)\n",
    "            topf = max(topf, dic[s[r]])\n",
    "            while (r - l + 1 - topf > k ):\n",
    "                dic[s[l]]-=1\n",
    "                l+=1\n",
    "            ans = max(r - l + 1, ans)\n",
    "        return ans\n",
    "        \n",
    "            \n",
    "Solution.characterReplacement(Solution,\"AABABBA\", 2)"
   ]
  },
  {
   "cell_type": "code",
   "execution_count": 46,
   "metadata": {},
   "outputs": [
    {
     "data": {
      "text/plain": [
       "False"
      ]
     },
     "execution_count": 46,
     "metadata": {},
     "output_type": "execute_result"
    }
   ],
   "source": [
    "class Solution:\n",
    "    def isValid(self, s: str) -> bool:\n",
    "        stack = []\n",
    "        dic = {')':'(',']':'[','}':'{'}\n",
    "        for i in s:\n",
    "            if i not in dic:\n",
    "                stack.append(i)\n",
    "            else:\n",
    "                if dic.get(i) in stack:\n",
    "                    x = stack.pop()\n",
    "                    if dic[i] != x:\n",
    "                        return False\n",
    "                else:\n",
    "                    return False\n",
    "        if stack == []:\n",
    "            return True\n",
    "        return False\n",
    "\n",
    "Solution.isValid(Solution, \"({{{{}}}))\")\n",
    "\n"
   ]
  },
  {
   "cell_type": "code",
   "execution_count": 5,
   "metadata": {},
   "outputs": [
    {
     "data": {
      "text/plain": [
       "1"
      ]
     },
     "execution_count": 5,
     "metadata": {},
     "output_type": "execute_result"
    }
   ],
   "source": [
    "class Solution:\n",
    "    def search(self, nums: list[int], target: int) -> int:\n",
    "        l,r = 0, len(nums) - 1\n",
    "        while l <= r:\n",
    "            m = (r + l) // 2\n",
    "            if nums[m] == target:\n",
    "                return m\n",
    "            elif nums[m] >= nums[l]:\n",
    "                if target <= nums[m] and target >= nums[l]:\n",
    "                    r = m - 1\n",
    "                else:\n",
    "                    l = m + 1\n",
    "            else:\n",
    "                if target >= nums[m] and target <= nums[r]:\n",
    "                    l = m + 1\n",
    "                else:\n",
    "                    r = m - 1\n",
    "        return -1\n",
    "        \n",
    "Solution.search(Solution,[4,5,6,7,0,1,2], 5) #ANSWER = 4"
   ]
  },
  {
   "cell_type": "code",
   "execution_count": 45,
   "metadata": {},
   "outputs": [
    {
     "data": {
      "text/plain": [
       "3"
      ]
     },
     "execution_count": 45,
     "metadata": {},
     "output_type": "execute_result"
    }
   ],
   "source": [
    "class Solution:\n",
    "    def findMin(self, nums: list[int]) -> int:\n",
    "        l, r = 0, len(nums) - 1\n",
    "        while l <= r:\n",
    "            if nums[l] <= nums[r]:\n",
    "                return nums[l]\n",
    "            else:\n",
    "                l+=1\n",
    "\n",
    "\n",
    "Solution.findMin(Solution,[3,4,5,0,1,2])"
   ]
  }
 ],
 "metadata": {
  "kernelspec": {
   "display_name": "Python 3.10.4 64-bit",
   "language": "python",
   "name": "python3"
  },
  "language_info": {
   "codemirror_mode": {
    "name": "ipython",
    "version": 3
   },
   "file_extension": ".py",
   "mimetype": "text/x-python",
   "name": "python",
   "nbconvert_exporter": "python",
   "pygments_lexer": "ipython3",
   "version": "3.10.5"
  },
  "orig_nbformat": 4,
  "vscode": {
   "interpreter": {
    "hash": "aee8b7b246df8f9039afb4144a1f6fd8d2ca17a180786b69acc140d282b71a49"
   }
  }
 },
 "nbformat": 4,
 "nbformat_minor": 2
}
