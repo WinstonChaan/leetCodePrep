{
 "cells": [
  {
   "cell_type": "code",
   "execution_count": 1,
   "metadata": {},
   "outputs": [
    {
     "data": {
      "text/plain": [
       "[1, 3, 6, 10]"
      ]
     },
     "execution_count": 1,
     "metadata": {},
     "output_type": "execute_result"
    }
   ],
   "source": [
    "class Solution:\n",
    "    def runningSum(self, nums: list[int]) -> list[int]:\n",
    "        x = nums[0]\n",
    "        ans = [x]\n",
    "        for i in range(1,len(nums)):\n",
    "            x += nums[i]\n",
    "            ans.append(x)\n",
    "        return(ans)\n",
    "        \n",
    "Solution.runningSum(Solution,[1,2,3,4])"
   ]
  },
  {
   "cell_type": "code",
   "execution_count": 19,
   "metadata": {},
   "outputs": [
    {
     "data": {
      "text/plain": [
       "3"
      ]
     },
     "execution_count": 19,
     "metadata": {},
     "output_type": "execute_result"
    }
   ],
   "source": [
    "class Solution:\n",
    "    def pivotIndex(self, nums: list[int]) -> int:\n",
    "        for i in range(len(nums)):\n",
    "            left = nums[:i]\n",
    "            sumleft = sum(left)\n",
    "            right = nums[i + 1:]\n",
    "            sumright = sum(right)\n",
    "            if sumleft == sumright:\n",
    "                return i\n",
    "        return -1\n",
    "\n",
    "Solution.pivotIndex(Solution,[1,7,3,6,5,6])"
   ]
  },
  {
   "cell_type": "markdown",
   "metadata": {},
   "source": [
    "WAY FASTER THAN ABOVE METHOD"
   ]
  },
  {
   "cell_type": "code",
   "execution_count": 1,
   "metadata": {},
   "outputs": [
    {
     "data": {
      "text/plain": [
       "3"
      ]
     },
     "execution_count": 1,
     "metadata": {},
     "output_type": "execute_result"
    }
   ],
   "source": [
    "class Solution:\n",
    "    def pivotIndex(self, nums: list[int]) -> int:\n",
    "        sumleft = sum(nums[:0])\n",
    "        sumright = sum(nums[1:])\n",
    "        if sumleft == sumright:\n",
    "            return 0\n",
    "        for i in range(0,len(nums) - 1):\n",
    "            sumleft += nums[i]\n",
    "            sumright -= nums[i + 1]\n",
    "            if sumleft == sumright:\n",
    "                return i + 1\n",
    "        return -1\n",
    "\n",
    "Solution.pivotIndex(Solution,[1,7,3,6,5,6])"
   ]
  },
  {
   "cell_type": "code",
   "execution_count": 123,
   "metadata": {},
   "outputs": [
    {
     "data": {
      "text/plain": [
       "True"
      ]
     },
     "execution_count": 123,
     "metadata": {},
     "output_type": "execute_result"
    }
   ],
   "source": [
    "class Solution:\n",
    "    def isIsomorphic(self, s: str, t: str) -> bool:\n",
    "        x = {}\n",
    "        ans = True\n",
    "        for i in range(len(s)):\n",
    "            if s[i] not in x:\n",
    "                x[s[i]] = t[i]\n",
    "            else:\n",
    "                if x.get(s[i]) == t[i]:\n",
    "                    ans = True\n",
    "                else:\n",
    "                    return False \n",
    "        if len(set(x.values())) != len(set(x.keys())):\n",
    "            return False\n",
    "        return ans\n",
    "\n",
    "Solution.isIsomorphic(Solution,'paper','title')"
   ]
  },
  {
   "cell_type": "code",
   "execution_count": 197,
   "metadata": {},
   "outputs": [
    {
     "name": "stdout",
     "output_type": "stream",
     "text": [
      "['None', 'None', 'None', 'None', 'None', 'None']\n"
     ]
    },
    {
     "data": {
      "text/plain": [
       "True"
      ]
     },
     "execution_count": 197,
     "metadata": {},
     "output_type": "execute_result"
    }
   ],
   "source": [
    "class Solution:\n",
    "    def isSubsequence(self, s: str, t: str) -> bool:\n",
    "        x,y = {},[]\n",
    "        for i in range(len(t)):\n",
    "            x[t[i]] = i\n",
    "        for i in range(len(s)):\n",
    "            y.append(str(x.get(s[i])))\n",
    "        print(y)\n",
    "        if t == '':\n",
    "            return False\n",
    "        if y == sorted(y) and len(y) > 1 or s == '':\n",
    "            return True\n",
    "        else:\n",
    "            return False\n",
    "\n",
    "Solution.isSubsequence(Solution,'asdasd','')\n"
   ]
  }
 ],
 "metadata": {
  "kernelspec": {
   "display_name": "Python 3.10.4 64-bit",
   "language": "python",
   "name": "python3"
  },
  "language_info": {
   "codemirror_mode": {
    "name": "ipython",
    "version": 3
   },
   "file_extension": ".py",
   "mimetype": "text/x-python",
   "name": "python",
   "nbconvert_exporter": "python",
   "pygments_lexer": "ipython3",
   "version": "3.10.4"
  },
  "orig_nbformat": 4,
  "vscode": {
   "interpreter": {
    "hash": "aee8b7b246df8f9039afb4144a1f6fd8d2ca17a180786b69acc140d282b71a49"
   }
  }
 },
 "nbformat": 4,
 "nbformat_minor": 2
}
