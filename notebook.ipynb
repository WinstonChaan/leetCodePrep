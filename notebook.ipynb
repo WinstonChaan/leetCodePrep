{
 "cells": [
  {
   "cell_type": "code",
   "execution_count": 2,
   "metadata": {},
   "outputs": [
    {
     "data": {
      "text/plain": [
       "[1, 3, 6, 10]"
      ]
     },
     "execution_count": 2,
     "metadata": {},
     "output_type": "execute_result"
    }
   ],
   "source": [
    "class Solution:\n",
    "    def runningSum(self, nums: list[int]) -> list[int]:\n",
    "        x = nums[0]\n",
    "        ans = [x]\n",
    "        for i in range(1,len(nums)):\n",
    "            x += nums[i]\n",
    "            ans.append(x)\n",
    "        return(ans)\n",
    "        \n",
    "Solution.runningSum(Solution,[1,2,3,4])"
   ]
  },
  {
   "cell_type": "code",
   "execution_count": null,
   "metadata": {},
   "outputs": [],
   "source": []
  },
  {
   "cell_type": "code",
   "execution_count": 3,
   "metadata": {},
   "outputs": [
    {
     "data": {
      "text/plain": [
       "3"
      ]
     },
     "execution_count": 3,
     "metadata": {},
     "output_type": "execute_result"
    }
   ],
   "source": [
    "class Solution:\n",
    "    def pivotIndex(self, nums: list[int]) -> int:\n",
    "        for i in range(len(nums)):\n",
    "            left = nums[:i]\n",
    "            sumleft = sum(left)\n",
    "            right = nums[i + 1:]\n",
    "            sumright = sum(right)\n",
    "            if sumleft == sumright:\n",
    "                return i\n",
    "        return -1\n",
    "\n",
    "Solution.pivotIndex(Solution,[1,7,3,6,5,6])"
   ]
  },
  {
   "cell_type": "markdown",
   "metadata": {},
   "source": [
    "WAY FASTER THAN ABOVE METHOD"
   ]
  },
  {
   "cell_type": "code",
   "execution_count": 4,
   "metadata": {},
   "outputs": [
    {
     "data": {
      "text/plain": [
       "3"
      ]
     },
     "execution_count": 4,
     "metadata": {},
     "output_type": "execute_result"
    }
   ],
   "source": [
    "class Solution:\n",
    "    def pivotIndex(self, nums: list[int]) -> int:\n",
    "        sumleft = sum(nums[:0])\n",
    "        sumright = sum(nums[1:])\n",
    "        if sumleft == sumright:\n",
    "            return 0\n",
    "        for i in range(0,len(nums) - 1):\n",
    "            sumleft += nums[i]\n",
    "            sumright -= nums[i + 1]\n",
    "            if sumleft == sumright:\n",
    "                return i + 1\n",
    "        return -1\n",
    "\n",
    "Solution.pivotIndex(Solution,[1,7,3,6,5,6])"
   ]
  },
  {
   "cell_type": "code",
   "execution_count": 5,
   "metadata": {},
   "outputs": [
    {
     "data": {
      "text/plain": [
       "True"
      ]
     },
     "execution_count": 5,
     "metadata": {},
     "output_type": "execute_result"
    }
   ],
   "source": [
    "class Solution:\n",
    "    def isIsomorphic(self, s: str, t: str) -> bool:\n",
    "        x = {}\n",
    "        ans = True\n",
    "        for i in range(len(s)):\n",
    "            if s[i] not in x:\n",
    "                x[s[i]] = t[i]\n",
    "            else:\n",
    "                if x.get(s[i]) == t[i]:\n",
    "                    ans = True\n",
    "                else:\n",
    "                    return False \n",
    "        if len(set(x.values())) != len(set(x.keys())):\n",
    "            return False\n",
    "        return ans\n",
    "\n",
    "Solution.isIsomorphic(Solution,'paper','title')"
   ]
  },
  {
   "cell_type": "code",
   "execution_count": 6,
   "metadata": {},
   "outputs": [
    {
     "data": {
      "text/plain": [
       "False"
      ]
     },
     "execution_count": 6,
     "metadata": {},
     "output_type": "execute_result"
    }
   ],
   "source": [
    "class Solution:\n",
    "    def isSubsequence(self, s: str, t: str) -> bool:\n",
    "        a,b = 0,0\n",
    "        while a < len(s) and b < len(t):\n",
    "            if s[a] == t[b]:\n",
    "                a+= 1\n",
    "                b+= 1\n",
    "            else:\n",
    "                b+=1\n",
    "        if a == len(s):\n",
    "            return True\n",
    "        else:\n",
    "            return False \n",
    "            \n",
    "Solution.isSubsequence(Solution,'asdasd','')\n"
   ]
  },
  {
   "cell_type": "code",
   "execution_count": 7,
   "metadata": {},
   "outputs": [
    {
     "data": {
      "text/plain": [
       "5"
      ]
     },
     "execution_count": 7,
     "metadata": {},
     "output_type": "execute_result"
    }
   ],
   "source": [
    "class Solution:\n",
    "    def maxProfit(self, prices: list[int]) -> int:\n",
    "        i,j,ans = 0,1,0\n",
    "        while j < len(prices):\n",
    "            if prices[i] < prices[j]:\n",
    "                ans =  max(ans,prices[j] - prices[i])\n",
    "            else:\n",
    "                i = j\n",
    "            j+=1\n",
    "        return ans\n",
    "\n",
    "Solution.maxProfit(Solution,[7,1,5,3,6,4])"
   ]
  },
  {
   "cell_type": "code",
   "execution_count": 8,
   "metadata": {},
   "outputs": [
    {
     "data": {
      "text/plain": [
       "False"
      ]
     },
     "execution_count": 8,
     "metadata": {},
     "output_type": "execute_result"
    }
   ],
   "source": [
    "class Solution:\n",
    "    def isValid(self, s):\n",
    "        stack = []\n",
    "        dict = {\"]\":\"[\", \"}\":\"{\", \")\":\"(\"}\n",
    "        for i in s:\n",
    "            if i in dict.values():\n",
    "                stack.append(i)\n",
    "            elif i in dict.keys():\n",
    "                if stack == [] or dict[i] != stack.pop():\n",
    "                    return False\n",
    "            else:\n",
    "                return False\n",
    "        return stack == []\n",
    "\n",
    "\n",
    "Solution.isValid(Solution,'([}}])')"
   ]
  },
  {
   "cell_type": "code",
   "execution_count": 9,
   "metadata": {},
   "outputs": [
    {
     "ename": "NameError",
     "evalue": "name 'Optional' is not defined",
     "output_type": "error",
     "traceback": [
      "\u001b[0;31m---------------------------------------------------------------------------\u001b[0m",
      "\u001b[0;31mNameError\u001b[0m                                 Traceback (most recent call last)",
      "\u001b[1;32m/Users/winstonchan/Documents/Side Projects/leetCodePrep/notebook.ipynb Cell 9\u001b[0m in \u001b[0;36m<cell line: 1>\u001b[0;34m()\u001b[0m\n\u001b[0;32m----> <a href='vscode-notebook-cell:/Users/winstonchan/Documents/Side%20Projects/leetCodePrep/notebook.ipynb#ch0000008?line=0'>1</a>\u001b[0m \u001b[39mclass\u001b[39;00m \u001b[39mSolution\u001b[39;00m:\n\u001b[1;32m      <a href='vscode-notebook-cell:/Users/winstonchan/Documents/Side%20Projects/leetCodePrep/notebook.ipynb#ch0000008?line=1'>2</a>\u001b[0m     \u001b[39mdef\u001b[39;00m \u001b[39mreverseList\u001b[39m(\u001b[39mself\u001b[39m, head: Optional[ListNode]) \u001b[39m-\u001b[39m\u001b[39m>\u001b[39m Optional[ListNode]:\n\u001b[1;32m      <a href='vscode-notebook-cell:/Users/winstonchan/Documents/Side%20Projects/leetCodePrep/notebook.ipynb#ch0000008?line=2'>3</a>\u001b[0m         prev \u001b[39m=\u001b[39m \u001b[39mNone\u001b[39;00m\n",
      "\u001b[1;32m/Users/winstonchan/Documents/Side Projects/leetCodePrep/notebook.ipynb Cell 9\u001b[0m in \u001b[0;36mSolution\u001b[0;34m()\u001b[0m\n\u001b[1;32m      <a href='vscode-notebook-cell:/Users/winstonchan/Documents/Side%20Projects/leetCodePrep/notebook.ipynb#ch0000008?line=0'>1</a>\u001b[0m \u001b[39mclass\u001b[39;00m \u001b[39mSolution\u001b[39;00m:\n\u001b[0;32m----> <a href='vscode-notebook-cell:/Users/winstonchan/Documents/Side%20Projects/leetCodePrep/notebook.ipynb#ch0000008?line=1'>2</a>\u001b[0m     \u001b[39mdef\u001b[39;00m \u001b[39mreverseList\u001b[39m(\u001b[39mself\u001b[39m, head: Optional[ListNode]) \u001b[39m-\u001b[39m\u001b[39m>\u001b[39m Optional[ListNode]:\n\u001b[1;32m      <a href='vscode-notebook-cell:/Users/winstonchan/Documents/Side%20Projects/leetCodePrep/notebook.ipynb#ch0000008?line=2'>3</a>\u001b[0m         prev \u001b[39m=\u001b[39m \u001b[39mNone\u001b[39;00m\n\u001b[1;32m      <a href='vscode-notebook-cell:/Users/winstonchan/Documents/Side%20Projects/leetCodePrep/notebook.ipynb#ch0000008?line=3'>4</a>\u001b[0m         \u001b[39mwhile\u001b[39;00m head:\n",
      "\u001b[0;31mNameError\u001b[0m: name 'Optional' is not defined"
     ]
    }
   ],
   "source": [
    "class Solution:\n",
    "    def reverseList(self, head: Optional[ListNode]) -> Optional[ListNode]:\n",
    "        prev = None\n",
    "        while head:\n",
    "            current = head\n",
    "            head = head.next\n",
    "            current.next = prev\n",
    "            prev = current\n",
    "        return prev"
   ]
  },
  {
   "cell_type": "code",
   "execution_count": 10,
   "metadata": {},
   "outputs": [
    {
     "data": {
      "text/plain": [
       "True"
      ]
     },
     "execution_count": 10,
     "metadata": {},
     "output_type": "execute_result"
    }
   ],
   "source": [
    "#String ends with?\n",
    "def solution(string, ending):\n",
    "    if string[len(string) - len(ending):] == ending or len(ending) == 0:\n",
    "        return True\n",
    "    else:\n",
    "        return False\n",
    "\n",
    "solution('ninja', 'ja') "
   ]
  },
  {
   "cell_type": "code",
   "execution_count": null,
   "metadata": {},
   "outputs": [],
   "source": [
    "def validate_pin(pin):\n",
    "    if len(pin) == 6 or len(pin) == 4 and pin.isdigit():\n",
    "        return True\n",
    "    else: \n",
    "        return False\n",
    "validate_pin('-123')"
   ]
  },
  {
   "cell_type": "code",
   "execution_count": 11,
   "metadata": {},
   "outputs": [],
   "source": [
    "class Solution:\n",
    "    def mergeTwoLists(self, a, b):\n",
    "        if a and b:\n",
    "            if a.val > b.val:\n",
    "                a, b = b, a\n",
    "            a.next = self.mergeTwoLists(a.next, b)\n",
    "        return a or b"
   ]
  },
  {
   "cell_type": "code",
   "execution_count": 12,
   "metadata": {},
   "outputs": [
    {
     "data": {
      "text/plain": [
       "True"
      ]
     },
     "execution_count": 12,
     "metadata": {},
     "output_type": "execute_result"
    }
   ],
   "source": [
    "class Solution:\n",
    "    def containsDuplicate(self, nums: list[int]) -> bool:\n",
    "        if len(set(nums)) == len(nums):\n",
    "            return False\n",
    "        else:\n",
    "            return True\n",
    "\n",
    "Solution.containsDuplicate(Solution,[1,2,3,4,1])"
   ]
  },
  {
   "cell_type": "code",
   "execution_count": 13,
   "metadata": {},
   "outputs": [],
   "source": [
    "class Solution:\n",
    "    def isIsomorphic(self, s: str, t: str) -> bool:\n",
    "        x = {}\n",
    "        ans = True\n",
    "        for i in range(len(s)):\n",
    "            if s[i] not in x:\n",
    "                x[s[i]] = t[i]\n",
    "            else:\n",
    "                if x.get(s[i]) == t[i]:\n",
    "                    ans = True\n",
    "                else:\n",
    "                    return False \n",
    "        if len(set(x.values())) != len(set(x.keys())):\n",
    "            return False\n",
    "        return ans"
   ]
  },
  {
   "cell_type": "code",
   "execution_count": 14,
   "metadata": {},
   "outputs": [
    {
     "data": {
      "text/plain": [
       "[2, 3, 6, 9, 13, 18, 26, 39, 78, 117]"
      ]
     },
     "execution_count": 14,
     "metadata": {},
     "output_type": "execute_result"
    }
   ],
   "source": [
    "def divisors(integer):\n",
    "    ans = []\n",
    "    for i in range(2, integer):\n",
    "        if(integer % i == 0):\n",
    "            ans.append(i)\n",
    "    if len(ans) == 0:\n",
    "        return str(integer) + \" is prime\"\n",
    "    return ans\n",
    "\n",
    "divisors(234)"
   ]
  },
  {
   "cell_type": "code",
   "execution_count": 15,
   "metadata": {},
   "outputs": [],
   "source": [
    "def find_outlier(integers):\n",
    "    ans = []\n",
    "    ans2 = []\n",
    "    for i in range(len(integers)):\n",
    "        if (integers[i] % 2 == 0):\n",
    "            ans.append(integers[i])\n",
    "        else:\n",
    "            ans2.append(integers[i])\n",
    "    if len(ans) == 1:\n",
    "        return ans[0]\n",
    "    elif len(ans2) == 1:\n",
    "        return ans2[0]"
   ]
  },
  {
   "cell_type": "code",
   "execution_count": 9,
   "metadata": {},
   "outputs": [
    {
     "data": {
      "text/plain": [
       "'fl'"
      ]
     },
     "execution_count": 9,
     "metadata": {},
     "output_type": "execute_result"
    }
   ],
   "source": [
    "class Solution:\n",
    "    def longestCommonPrefix(self, strs: list[str]) -> str:\n",
    "        res = ''\n",
    "        for i in range(len(strs[0])):\n",
    "            for j in strs:\n",
    "                if i == len(j) or j[i] == strs[0][i]:\n",
    "                    continue\n",
    "                else:\n",
    "                    return res\n",
    "            res += strs[0][i]\n",
    "\n",
    "\n",
    "Solution.longestCommonPrefix(Solution, [\"flower\",\"flow\",\"flight\"])"
   ]
  },
  {
   "cell_type": "code",
   "execution_count": 16,
   "metadata": {},
   "outputs": [
    {
     "data": {
      "text/plain": [
       "True"
      ]
     },
     "execution_count": 16,
     "metadata": {},
     "output_type": "execute_result"
    }
   ],
   "source": [
    "class Solution:\n",
    "    def isAnagram(self, s: str, t: str) -> bool:\n",
    "        return sorted(s) == sorted(t)\n",
    "\n",
    "Solution.isAnagram(Solution, \"anagram\",'nagaram')"
   ]
  },
  {
   "cell_type": "code",
   "execution_count": 23,
   "metadata": {},
   "outputs": [
    {
     "name": "stdout",
     "output_type": "stream",
     "text": [
      "1 0\n",
      "{2: 0, 11: 2, 15: 3}\n"
     ]
    }
   ],
   "source": [
    "class Solution:\n",
    "    def twoSum(self, nums: list[int], target: int) -> list[int]:\n",
    "        dic = {}\n",
    "        for i in range(len(nums)):\n",
    "            need = target - nums[i]\n",
    "            if need not in dic:\n",
    "                dic[nums[i]] = i\n",
    "            else:\n",
    "                print(i, dic.get(need))\n",
    "            \n",
    "        print(dic)\n",
    "            \n",
    "\n",
    "Solution.twoSum(Solution, [2,7,11,15], 9)"
   ]
  },
  {
   "cell_type": "code",
   "execution_count": 33,
   "metadata": {},
   "outputs": [
    {
     "data": {
      "text/plain": [
       "[]"
      ]
     },
     "execution_count": 33,
     "metadata": {},
     "output_type": "execute_result"
    }
   ],
   "source": [
    "class Solution:\n",
    "    def isAnagram(self, s: str, t: str) -> bool:\n",
    "        return sorted(s) == sorted(t)\n",
    "\n",
    "    def groupAnagrams(self, strs: list[str]) -> list[list[str]]:\n",
    "        ans,x,y = [],0,1\n",
    "        while y < len(strs):\n",
    "            if self.isAnagram(self,strs[x],strs[y]) == True:\n",
    "                for i in range(len(ans)):\n",
    "                    if strs[y] in ans[i]:\n",
    "                        ans[i].append(strs[y])\n",
    "                    else:\n",
    "                        ans.append([strs[y]])\n",
    "                y+=1\n",
    "            x+=1\n",
    "        return(ans)\n",
    "    \n",
    "Solution.groupAnagrams(Solution, [\"eat\",\"tea\",\"tan\",\"ate\",\"nat\",\"bat\"])"
   ]
  }
 ],
 "metadata": {
  "kernelspec": {
   "display_name": "Python 3.10.4 64-bit",
   "language": "python",
   "name": "python3"
  },
  "language_info": {
   "codemirror_mode": {
    "name": "ipython",
    "version": 3
   },
   "file_extension": ".py",
   "mimetype": "text/x-python",
   "name": "python",
   "nbconvert_exporter": "python",
   "pygments_lexer": "ipython3",
   "version": "3.10.5"
  },
  "orig_nbformat": 4,
  "vscode": {
   "interpreter": {
    "hash": "aee8b7b246df8f9039afb4144a1f6fd8d2ca17a180786b69acc140d282b71a49"
   }
  }
 },
 "nbformat": 4,
 "nbformat_minor": 2
}
