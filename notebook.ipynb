{
 "cells": [
  {
   "cell_type": "code",
   "execution_count": 2,
   "metadata": {},
   "outputs": [
    {
     "data": {
      "text/plain": [
       "[1, 3, 6, 10]"
      ]
     },
     "execution_count": 2,
     "metadata": {},
     "output_type": "execute_result"
    }
   ],
   "source": [
    "class Solution:\n",
    "    def runningSum(self, nums: list[int]) -> list[int]:\n",
    "        sortedList = nums[0]\n",
    "        dictionary = [sortedList]\n",
    "        for i in range(1,len(nums)):\n",
    "            sortedList += nums[i]\n",
    "            dictionary.append(sortedList)\n",
    "        return(dictionary)\n",
    "        \n",
    "Solution.runningSum(Solution,[1,2,3,4])"
   ]
  },
  {
   "cell_type": "code",
   "execution_count": 3,
   "metadata": {},
   "outputs": [
    {
     "data": {
      "text/plain": [
       "3"
      ]
     },
     "execution_count": 3,
     "metadata": {},
     "output_type": "execute_result"
    }
   ],
   "source": [
    "class Solution:\n",
    "    def pivotIndesortedList(self, nums: list[int]) -> int:\n",
    "        for i in range(len(nums)):\n",
    "            left = nums[:i]\n",
    "            sumleft = sum(left)\n",
    "            right = nums[i + 1:]\n",
    "            sumright = sum(right)\n",
    "            if sumleft == sumright:\n",
    "                return i\n",
    "        return -1\n",
    "\n",
    "Solution.pivotIndesortedList(Solution,[1,7,3,6,5,6])"
   ]
  },
  {
   "cell_type": "markdown",
   "metadata": {},
   "source": [
    "WAY FASTER THAN ABOVE METHOD"
   ]
  },
  {
   "cell_type": "code",
   "execution_count": 4,
   "metadata": {},
   "outputs": [
    {
     "data": {
      "text/plain": [
       "3"
      ]
     },
     "execution_count": 4,
     "metadata": {},
     "output_type": "execute_result"
    }
   ],
   "source": [
    "class Solution:\n",
    "    def pivotIndesortedList(self, nums: list[int]) -> int:\n",
    "        sumleft = sum(nums[:0])\n",
    "        sumright = sum(nums[1:])\n",
    "        if sumleft == sumright:\n",
    "            return 0\n",
    "        for i in range(0,len(nums) - 1):\n",
    "            sumleft += nums[i]\n",
    "            sumright -= nums[i + 1]\n",
    "            if sumleft == sumright:\n",
    "                return i + 1\n",
    "        return -1\n",
    "\n",
    "Solution.pivotIndesortedList(Solution,[1,7,3,6,5,6])"
   ]
  },
  {
   "cell_type": "code",
   "execution_count": 5,
   "metadata": {},
   "outputs": [
    {
     "data": {
      "text/plain": [
       "True"
      ]
     },
     "execution_count": 5,
     "metadata": {},
     "output_type": "execute_result"
    }
   ],
   "source": [
    "class Solution:\n",
    "    def isIsomorphic(self, s: str, t: str) -> bool:\n",
    "        sortedList = {}\n",
    "        dictionary = True\n",
    "        for i in range(len(s)):\n",
    "            if s[i] not in sortedList:\n",
    "                sortedList[s[i]] = t[i]\n",
    "            else:\n",
    "                if sortedList.get(s[i]) == t[i]:\n",
    "                    dictionary = True\n",
    "                else:\n",
    "                    return False \n",
    "        if len(set(sortedList.values())) != len(set(sortedList.keys())):\n",
    "            return False\n",
    "        return dictionary\n",
    "\n",
    "Solution.isIsomorphic(Solution,'paper','title')"
   ]
  },
  {
   "cell_type": "code",
   "execution_count": 6,
   "metadata": {},
   "outputs": [
    {
     "data": {
      "text/plain": [
       "False"
      ]
     },
     "execution_count": 6,
     "metadata": {},
     "output_type": "execute_result"
    }
   ],
   "source": [
    "class Solution:\n",
    "    def isSubsequence(self, s: str, t: str) -> bool:\n",
    "        a,b = 0,0\n",
    "        while a < len(s) and b < len(t):\n",
    "            if s[a] == t[b]:\n",
    "                a+= 1\n",
    "                b+= 1\n",
    "            else:\n",
    "                b+=1\n",
    "        if a == len(s):\n",
    "            return True\n",
    "        else:\n",
    "            return False \n",
    "            \n",
    "Solution.isSubsequence(Solution,'asdasd','')\n"
   ]
  },
  {
   "cell_type": "code",
   "execution_count": 7,
   "metadata": {},
   "outputs": [
    {
     "ename": "NameError",
     "evalue": "name 'masortedList' is not defined",
     "output_type": "error",
     "traceback": [
      "\u001b[0;31m---------------------------------------------------------------------------\u001b[0m",
      "\u001b[0;31mNameError\u001b[0m                                 Traceback (most recent call last)",
      "\u001b[1;32m/Users/winstonchan/Documents/Side Projects/leetCodePrep/notebook.ipynb Cell 7\u001b[0m in \u001b[0;36m<cell line: 12>\u001b[0;34m()\u001b[0m\n\u001b[1;32m      <a href='vscode-notebook-cell:/Users/winstonchan/Documents/Side%20Projects/leetCodePrep/notebook.ipynb#W6sZmlsZQ%3D%3D?line=8'>9</a>\u001b[0m             j\u001b[39m+\u001b[39m\u001b[39m=\u001b[39m\u001b[39m1\u001b[39m\n\u001b[1;32m     <a href='vscode-notebook-cell:/Users/winstonchan/Documents/Side%20Projects/leetCodePrep/notebook.ipynb#W6sZmlsZQ%3D%3D?line=9'>10</a>\u001b[0m         \u001b[39mreturn\u001b[39;00m dictionary\n\u001b[0;32m---> <a href='vscode-notebook-cell:/Users/winstonchan/Documents/Side%20Projects/leetCodePrep/notebook.ipynb#W6sZmlsZQ%3D%3D?line=11'>12</a>\u001b[0m Solution\u001b[39m.\u001b[39;49mmasortedListProfit(Solution,[\u001b[39m7\u001b[39;49m,\u001b[39m1\u001b[39;49m,\u001b[39m5\u001b[39;49m,\u001b[39m3\u001b[39;49m,\u001b[39m6\u001b[39;49m,\u001b[39m4\u001b[39;49m])\n",
      "\u001b[1;32m/Users/winstonchan/Documents/Side Projects/leetCodePrep/notebook.ipynb Cell 7\u001b[0m in \u001b[0;36mSolution.masortedListProfit\u001b[0;34m(self, prices)\u001b[0m\n\u001b[1;32m      <a href='vscode-notebook-cell:/Users/winstonchan/Documents/Side%20Projects/leetCodePrep/notebook.ipynb#W6sZmlsZQ%3D%3D?line=3'>4</a>\u001b[0m \u001b[39mwhile\u001b[39;00m j \u001b[39m<\u001b[39m \u001b[39mlen\u001b[39m(prices):\n\u001b[1;32m      <a href='vscode-notebook-cell:/Users/winstonchan/Documents/Side%20Projects/leetCodePrep/notebook.ipynb#W6sZmlsZQ%3D%3D?line=4'>5</a>\u001b[0m     \u001b[39mif\u001b[39;00m prices[i] \u001b[39m<\u001b[39m prices[j]:\n\u001b[0;32m----> <a href='vscode-notebook-cell:/Users/winstonchan/Documents/Side%20Projects/leetCodePrep/notebook.ipynb#W6sZmlsZQ%3D%3D?line=5'>6</a>\u001b[0m         dictionary \u001b[39m=\u001b[39m  masortedList(dictionary,prices[j] \u001b[39m-\u001b[39m prices[i])\n\u001b[1;32m      <a href='vscode-notebook-cell:/Users/winstonchan/Documents/Side%20Projects/leetCodePrep/notebook.ipynb#W6sZmlsZQ%3D%3D?line=6'>7</a>\u001b[0m     \u001b[39melse\u001b[39;00m:\n\u001b[1;32m      <a href='vscode-notebook-cell:/Users/winstonchan/Documents/Side%20Projects/leetCodePrep/notebook.ipynb#W6sZmlsZQ%3D%3D?line=7'>8</a>\u001b[0m         i \u001b[39m=\u001b[39m j\n",
      "\u001b[0;31mNameError\u001b[0m: name 'masortedList' is not defined"
     ]
    }
   ],
   "source": [
    "class Solution:\n",
    "    def masortedListProfit(self, prices: list[int]) -> int:\n",
    "        i,j,dictionary = 0,1,0\n",
    "        while j < len(prices):\n",
    "            if prices[i] < prices[j]:\n",
    "                dictionary =  masortedList(dictionary,prices[j] - prices[i])\n",
    "            else:\n",
    "                i = j\n",
    "            j+=1\n",
    "        return dictionary\n",
    "\n",
    "Solution.masortedListProfit(Solution,[7,1,5,3,6,4])"
   ]
  },
  {
   "cell_type": "code",
   "execution_count": null,
   "metadata": {},
   "outputs": [],
   "source": [
    "class Solution:\n",
    "    def isValid(self, s):\n",
    "        stack = []\n",
    "        dict = {\"]\":\"[\", \"}\":\"{\", \")\":\"(\"}\n",
    "        for i in s:\n",
    "            if i in dict.values():\n",
    "                stack.append(i)\n",
    "            elif i in dict.keys():\n",
    "                if stack == [] or dict[i] != stack.pop():\n",
    "                    return False\n",
    "            else:\n",
    "                return False\n",
    "        return stack == []\n",
    "\n",
    "\n",
    "Solution.isValid(Solution,'([}}])')"
   ]
  },
  {
   "cell_type": "code",
   "execution_count": null,
   "metadata": {},
   "outputs": [],
   "source": [
    "class Solution:\n",
    "    def reverseList(self, head: Optional[ListNode]) -> Optional[ListNode]:\n",
    "        prev = None\n",
    "        while head:\n",
    "            current = head\n",
    "            head = head.nesortedListt\n",
    "            current.nesortedListt = prev\n",
    "            prev = current\n",
    "        return prev"
   ]
  },
  {
   "cell_type": "code",
   "execution_count": null,
   "metadata": {},
   "outputs": [],
   "source": [
    "#String ends with?\n",
    "def solution(string, ending):\n",
    "    if string[len(string) - len(ending):] == ending or len(ending) == 0:\n",
    "        return True\n",
    "    else:\n",
    "        return False\n",
    "\n",
    "solution('ninja', 'ja') "
   ]
  },
  {
   "cell_type": "code",
   "execution_count": null,
   "metadata": {},
   "outputs": [],
   "source": [
    "def validate_pin(pin):\n",
    "    if len(pin) == 6 or len(pin) == 4 and pin.isdigit():\n",
    "        return True\n",
    "    else: \n",
    "        return False\n",
    "validate_pin('-123')"
   ]
  },
  {
   "cell_type": "code",
   "execution_count": null,
   "metadata": {},
   "outputs": [],
   "source": [
    "class Solution:\n",
    "    def mergeTwoLists(self, a, b):\n",
    "        if a and b:\n",
    "            if a.val > b.val:\n",
    "                a, b = b, a\n",
    "            a.nesortedListt = self.mergeTwoLists(a.nesortedListt, b)\n",
    "        return a or b"
   ]
  },
  {
   "cell_type": "code",
   "execution_count": null,
   "metadata": {},
   "outputs": [],
   "source": [
    "class Solution:\n",
    "    def containsDuplicate(self, nums: list[int]) -> bool:\n",
    "        if len(set(nums)) == len(nums):\n",
    "            return False\n",
    "        else:\n",
    "            return True\n",
    "\n",
    "Solution.containsDuplicate(Solution,[1,2,3,4,1])"
   ]
  },
  {
   "cell_type": "code",
   "execution_count": null,
   "metadata": {},
   "outputs": [],
   "source": [
    "class Solution:\n",
    "    def isIsomorphic(self, s: str, t: str) -> bool:\n",
    "        sortedList = {}\n",
    "        dictionary = True\n",
    "        for i in range(len(s)):\n",
    "            if s[i] not in sortedList:\n",
    "                sortedList[s[i]] = t[i]\n",
    "            else:\n",
    "                if sortedList.get(s[i]) == t[i]:\n",
    "                    dictionary = True\n",
    "                else:\n",
    "                    return False \n",
    "        if len(set(sortedList.values())) != len(set(sortedList.keys())):\n",
    "            return False\n",
    "        return dictionary"
   ]
  },
  {
   "cell_type": "code",
   "execution_count": null,
   "metadata": {},
   "outputs": [],
   "source": [
    "def divisors(integer):\n",
    "    dictionary = []\n",
    "    for i in range(2, integer):\n",
    "        if(integer % i == 0):\n",
    "            dictionary.append(i)\n",
    "    if len(dictionary) == 0:\n",
    "        return str(integer) + \" is prime\"\n",
    "    return dictionary\n",
    "\n",
    "divisors(234)"
   ]
  },
  {
   "cell_type": "code",
   "execution_count": null,
   "metadata": {},
   "outputs": [],
   "source": [
    "def find_outlier(integers):\n",
    "    dictionary = []\n",
    "    dictionary2 = []\n",
    "    for i in range(len(integers)):\n",
    "        if (integers[i] % 2 == 0):\n",
    "            dictionary.append(integers[i])\n",
    "        else:\n",
    "            dictionary2.append(integers[i])\n",
    "    if len(dictionary) == 1:\n",
    "        return dictionary[0]\n",
    "    elif len(dictionary2) == 1:\n",
    "        return dictionary2[0]"
   ]
  },
  {
   "cell_type": "code",
   "execution_count": null,
   "metadata": {},
   "outputs": [],
   "source": [
    "class Solution:\n",
    "    def longestCommonPrefisortedList(self, strs: list[str]) -> str:\n",
    "        res = ''\n",
    "        for i in range(len(strs[0])):\n",
    "            for j in strs:\n",
    "                if i == len(j) or j[i] == strs[0][i]:\n",
    "                    continue\n",
    "                else:\n",
    "                    return res\n",
    "            res += strs[0][i]\n",
    "\n",
    "\n",
    "Solution.longestCommonPrefisortedList(Solution, [\"flower\",\"flow\",\"flight\"])"
   ]
  },
  {
   "cell_type": "code",
   "execution_count": null,
   "metadata": {},
   "outputs": [],
   "source": [
    "class Solution:\n",
    "    def isAnagram(self, s: str, t: str) -> bool:\n",
    "        return sorted(s) == sorted(t)\n",
    "\n",
    "Solution.isAnagram(Solution, \"anagram\",'nagaram')"
   ]
  },
  {
   "cell_type": "code",
   "execution_count": null,
   "metadata": {},
   "outputs": [],
   "source": [
    "class Solution:\n",
    "    def twoSum(self, nums: list[int], target: int) -> list[int]:\n",
    "        dic = {}\n",
    "        for i in range(len(nums)):\n",
    "            need = target - nums[i]\n",
    "            if need not in dic:\n",
    "                dic[nums[i]] = i\n",
    "            else:\n",
    "                print(i, dic.get(need))\n",
    "            \n",
    "        print(dic)\n",
    "            \n",
    "\n",
    "Solution.twoSum(Solution, [2,7,11,15], 9)"
   ]
  },
  {
   "cell_type": "code",
   "execution_count": null,
   "metadata": {},
   "outputs": [
    {
     "data": {
      "text/plain": [
       "dict_values([['eat', 'tea', 'ate'], ['tan', 'nat'], ['bat']])"
      ]
     },
     "execution_count": 40,
     "metadata": {},
     "output_type": "execute_result"
    }
   ],
   "source": [
    "class Solution:\n",
    "    def groupAnagrams(self, strs: list[str]) -> list[list[str]]:\n",
    "        dic = {''.join(sorted(strs[0])): [strs[0]]}\n",
    "        y = 1\n",
    "        sortedList = 0\n",
    "        while y < len(strs):\n",
    "            if ''.join(sorted(strs[y])) == ''.join(sorted(strs[sortedList])):\n",
    "                if ''.join(sorted(strs[sortedList])) in dic:\n",
    "                    dic[''.join(sorted(strs[sortedList]))].append(strs[y])\n",
    "                else:\n",
    "                    dic[''.join(sorted(strs[sortedList]))] = [strs[y]]\n",
    "                y+=1\n",
    "            else:\n",
    "                sortedList+=1\n",
    "        return(dic.values())\n",
    "    \n",
    "Solution.groupAnagrams(Solution, [\"eat\",\"tea\",\"tan\",\"ate\",\"nat\",\"bat\"])"
   ]
  },
  {
   "cell_type": "code",
   "execution_count": null,
   "metadata": {},
   "outputs": [
    {
     "data": {
      "text/plain": [
       "[5]"
      ]
     },
     "execution_count": 255,
     "metadata": {},
     "output_type": "execute_result"
    }
   ],
   "source": [
    "class Solution:\n",
    "    def topKFrequent(self, nums: list[int], k: int) -> list[int]:\n",
    "        counter = 0\n",
    "        sortedList = sorted(nums)\n",
    "        dictionary = {sortedList[0] : counter}\n",
    "        for i in range(len(sortedList)):\n",
    "            if sortedList[i] in dictionary:\n",
    "                counter+=1\n",
    "                dictionary[sortedList[i]] = counter\n",
    "            else:\n",
    "                counter = 1\n",
    "                dictionary[sortedList[i]] = counter\n",
    "        realDic = {}\n",
    "        for (a,b) in dictionary.items():\n",
    "            if b in realDic.keys():\n",
    "                p = realDic.get(b)\n",
    "                p.append(a)\n",
    "                realDic[b] = p\n",
    "            else:\n",
    "                realDic[b] = [a]\n",
    "        mostOften = list(realDic.keys())\n",
    "        mostOften.sort(reverse=True)\n",
    "        ans = []\n",
    "        for j in range(len(mostOften)):\n",
    "            for s in realDic.get(mostOften[j]):\n",
    "                if len(ans) > k - 1:\n",
    "                    return ans\n",
    "                ans.append(s)\n",
    "            if len(ans) > k - 1:\n",
    "                return ans\n",
    "        return ans\n",
    "    \n",
    "Solution.topKFrequent(Solution, [4,1,-1,2,-1,2,3,5,5,5,5], 1)"
   ]
  },
  {
   "cell_type": "code",
   "execution_count": null,
   "metadata": {},
   "outputs": [
    {
     "data": {
      "text/plain": [
       "4"
      ]
     },
     "execution_count": 50,
     "metadata": {},
     "output_type": "execute_result"
    }
   ],
   "source": [
    "class Solution:\n",
    "    def longestConsecutive(self, nums: list[int]) -> int:\n",
    "        numsSorted = sorted(set(nums))\n",
    "        ans, i, top = 1, 0, 0\n",
    "        if len(nums)==0:\n",
    "            return 0\n",
    "        while i < len(numsSorted) - 1:\n",
    "            if numsSorted[i] + 1 == numsSorted[i+1]:\n",
    "                ans += 1\n",
    "            else:\n",
    "                top = max(ans, top)\n",
    "                ans = 1\n",
    "            i+=1\n",
    "        return top\n",
    "\n",
    "Solution.longestConsecutive(Solution,[1,2,3,4,100,200])"
   ]
  },
  {
   "cell_type": "code",
   "execution_count": null,
   "metadata": {},
   "outputs": [
    {
     "data": {
      "text/plain": [
       "[24, 12, 8, 6]"
      ]
     },
     "execution_count": 216,
     "metadata": {},
     "output_type": "execute_result"
    }
   ],
   "source": [
    "class Solution:\n",
    "    def productExceptSelf(self, nums: list[int]) -> list[int]:\n",
    "        res = [1] * (len(nums))\n",
    "        prefix = 1\n",
    "        for i in range(len(nums)):\n",
    "            res[i] = prefix\n",
    "            prefix *= nums[i]\n",
    "        postfix = 1\n",
    "        for i in range(len(nums) - 1, -1, -1):\n",
    "            res[i] *= postfix\n",
    "            postfix *= nums[i]\n",
    "        return res\n",
    "\n",
    "Solution.productExceptSelf(Solution,[1,2,3,4])        "
   ]
  },
  {
   "cell_type": "code",
   "execution_count": null,
   "metadata": {},
   "outputs": [
    {
     "data": {
      "text/plain": [
       "False"
      ]
     },
     "execution_count": 24,
     "metadata": {},
     "output_type": "execute_result"
    }
   ],
   "source": [
    "class Solution:\n",
    "    def isPalindrome(self, s: str) -> bool:\n",
    "        x = ''.join(filter(str.isalnum, s)).lower()\n",
    "        i,j = 0,len(x) - 1\n",
    "        while i < j:\n",
    "            if x[i] == x[j]:\n",
    "                i+=1\n",
    "                j-=1\n",
    "            else:\n",
    "                return False\n",
    "        return True\n",
    "\n",
    "Solution.isPalindrome(Solution,'0p')"
   ]
  },
  {
   "cell_type": "code",
   "execution_count": null,
   "metadata": {},
   "outputs": [
    {
     "data": {
      "text/plain": [
       "[[4, 2, 2],\n",
       " [-3, 0, 3],\n",
       " [-3, -1, 4],\n",
       " [-5, 2, 3],\n",
       " [-2, -1, 3],\n",
       " [-2, -2, 4],\n",
       " [-2, 0, 2],\n",
       " [-4, 0, 4]]"
      ]
     },
     "execution_count": 88,
     "metadata": {},
     "output_type": "execute_result"
    }
   ],
   "source": [
    "class Solution:\n",
    "    def threeSum(self, nums: list[int]) -> list[list[int]]:\n",
    "        ans = []\n",
    "        counter = 0\n",
    "        for p in sorted(nums):\n",
    "            if p == 0:\n",
    "                counter += 1\n",
    "        if counter > 2:\n",
    "            ans.append([0,0,0])\n",
    "        for i in nums:\n",
    "            temp = nums[:]\n",
    "            temp.remove(i)\n",
    "            for j in temp:\n",
    "                temp.remove(j)\n",
    "                for k in temp:\n",
    "                    counter = i + j\n",
    "                    if counter + k == 0:\n",
    "                        if sorted([i,j,k]) not in ans:\n",
    "                            ans.append(sorted([i,j,k]))\n",
    "        return ans\n",
    "\n",
    "Solution.threeSum(Solution, [-3,3,-1,3,4,2,-5,-2,-4,-5,2,-2,4,-5,2,4,0])"
   ]
  },
  {
   "cell_type": "code",
   "execution_count": null,
   "metadata": {},
   "outputs": [
    {
     "data": {
      "text/plain": [
       "[[0, 0, 0]]"
      ]
     },
     "execution_count": 92,
     "metadata": {},
     "output_type": "execute_result"
    }
   ],
   "source": [
    "class Solution:\n",
    "    def threeSum(self, nums: list[int]) -> list[list[int]]:\n",
    "        ans = []\n",
    "        nums.sort()\n",
    "        counter = 0\n",
    "        for p in sorted(nums):\n",
    "            if p == 0:\n",
    "                counter += 1\n",
    "            if counter > 2:\n",
    "                ans.append([0,0,0])\n",
    "                break\n",
    "        for i in range(len(nums)):\n",
    "            if nums[i - 1] == nums[i]:\n",
    "                continue\n",
    "            l, r = i + 1, len(nums) - 1\n",
    "            counter = nums[i]\n",
    "            while l < r:\n",
    "                if counter + nums[l] + nums[r] < 0:\n",
    "                    l+=1\n",
    "                elif counter + nums[l] + nums[r] > 0:\n",
    "                    r-=1\n",
    "                else:\n",
    "                    if [nums[i],nums[l],nums[r]] not in ans:\n",
    "                        ans.append([nums[i],nums[l],nums[r]])\n",
    "                    l+=1\n",
    "        return ans\n",
    "\n",
    "Solution.threeSum(Solution, [0,0,0])\n"
   ]
  },
  {
   "cell_type": "code",
   "execution_count": null,
   "metadata": {},
   "outputs": [
    {
     "data": {
      "text/plain": [
       "49"
      ]
     },
     "execution_count": 185,
     "metadata": {},
     "output_type": "execute_result"
    }
   ],
   "source": [
    "class Solution:\n",
    "    def maxArea(self, height: list[int]) -> int:\n",
    "        l,r,ans = 0, len(height) - 1, 0\n",
    "        while l < r:\n",
    "            temp = (r - l) * min(height[l],height[r])\n",
    "            ans = max(temp, ans)\n",
    "            if max(height[l],height[r]) == height[r]:\n",
    "                l+=1\n",
    "            else:\n",
    "                r-=1\n",
    "        return ans\n",
    "\n",
    "Solution.maxArea(Solution, [1,8,6,2,5,4,8,3,7])\n"
   ]
  },
  {
   "cell_type": "code",
   "execution_count": null,
   "metadata": {},
   "outputs": [
    {
     "data": {
      "text/plain": [
       "2"
      ]
     },
     "execution_count": 39,
     "metadata": {},
     "output_type": "execute_result"
    }
   ],
   "source": [
    "class Solution:\n",
    "    def maxProfit(self, prices: list[int]) -> int:\n",
    "        l,r,ans = 0,1,0\n",
    "        buy = prices[0]\n",
    "        while r < len(prices):\n",
    "            buy = min(prices[l], buy)\n",
    "            profit = prices[r] - buy\n",
    "            ans = max(ans, profit)\n",
    "            l+=1\n",
    "            r+=1\n",
    "        return ans\n",
    "\n",
    "Solution.maxProfit(Solution,\n",
    "[2,1,2,1,0,1,2])"
   ]
  },
  {
   "cell_type": "code",
   "execution_count": null,
   "metadata": {},
   "outputs": [
    {
     "data": {
      "text/plain": [
       "2"
      ]
     },
     "execution_count": 2,
     "metadata": {},
     "output_type": "execute_result"
    }
   ],
   "source": [
    "class Solution:\n",
    "    def maxProfit(self, prices: list[int]) -> int:\n",
    "        l, ans = 0, 0 \n",
    "        for i in range(1, len(prices)):\n",
    "            if prices[i] < prices[l]:\n",
    "                l = i\n",
    "            ans = max(prices[i] - prices[l], ans)\n",
    "        return ans\n",
    "\n",
    "Solution.maxProfit(Solution,[2,1,2,1,0,1,2])"
   ]
  },
  {
   "cell_type": "code",
   "execution_count": null,
   "metadata": {},
   "outputs": [
    {
     "data": {
      "text/plain": [
       "2"
      ]
     },
     "execution_count": 22,
     "metadata": {},
     "output_type": "execute_result"
    }
   ],
   "source": [
    "class Solution:\n",
    "    def lengthOfLongestSubstring(self, s: str) -> int:\n",
    "        charSet = set()\n",
    "        l = 0\n",
    "        res = 0\n",
    "        for r in range(len(s)):\n",
    "            while s[r] in charSet:\n",
    "                charSet.remove(s[l])\n",
    "                l += 1\n",
    "            charSet.add(s[r])\n",
    "            res = max(res, r - l + 1)\n",
    "        return res\n",
    "\n",
    "Solution.lengthOfLongestSubstring(Solution, \"abcabcbb\")"
   ]
  },
  {
   "cell_type": "code",
   "execution_count": null,
   "metadata": {},
   "outputs": [
    {
     "name": "stdout",
     "output_type": "stream",
     "text": [
      "5\n"
     ]
    }
   ],
   "source": [
    "class Solution:\n",
    "    def characterReplacement(self, s: str, k: int) -> int:\n",
    "        l,ans,topf, dic = 0,0,0, {}\n",
    "        for r in range(len(s)):\n",
    "            dic[s[r]] = 1 + dic.get(s[r], 0)\n",
    "            topf = max(topf, dic[s[r]])\n",
    "            while (r - l + 1 - topf > k ):\n",
    "                dic[s[l]]-=1\n",
    "                l+=1\n",
    "            ans = max(r - l + 1, ans)\n",
    "        return ans\n",
    "        \n",
    "            \n",
    "Solution.characterReplacement(Solution,\"AABABBA\", 2)"
   ]
  },
  {
   "cell_type": "code",
   "execution_count": null,
   "metadata": {},
   "outputs": [
    {
     "data": {
      "text/plain": [
       "False"
      ]
     },
     "execution_count": 46,
     "metadata": {},
     "output_type": "execute_result"
    }
   ],
   "source": [
    "class Solution:\n",
    "    def isValid(self, s: str) -> bool:\n",
    "        stack = []\n",
    "        dic = {')':'(',']':'[','}':'{'}\n",
    "        for i in s:\n",
    "            if i not in dic:\n",
    "                stack.append(i)\n",
    "            else:\n",
    "                if dic.get(i) in stack:\n",
    "                    x = stack.pop()\n",
    "                    if dic[i] != x:\n",
    "                        return False\n",
    "                else:\n",
    "                    return False\n",
    "        if stack == []:\n",
    "            return True\n",
    "        return False\n",
    "\n",
    "Solution.isValid(Solution, \"({{{{}}}))\")\n",
    "\n"
   ]
  },
  {
   "cell_type": "code",
   "execution_count": null,
   "metadata": {},
   "outputs": [
    {
     "data": {
      "text/plain": [
       "1"
      ]
     },
     "execution_count": 5,
     "metadata": {},
     "output_type": "execute_result"
    }
   ],
   "source": [
    "class Solution:\n",
    "    def search(self, nums: list[int], target: int) -> int:\n",
    "        l,r = 0, len(nums) - 1\n",
    "        while l <= r:\n",
    "            m = (r + l) // 2\n",
    "            if nums[m] == target:\n",
    "                return m\n",
    "            elif nums[m] >= nums[l]:\n",
    "                if target <= nums[m] and target >= nums[l]:\n",
    "                    r = m - 1\n",
    "                else:\n",
    "                    l = m + 1\n",
    "            else:\n",
    "                if target >= nums[m] and target <= nums[r]:\n",
    "                    l = m + 1\n",
    "                else:\n",
    "                    r = m - 1\n",
    "        return -1\n",
    "        \n",
    "Solution.search(Solution,[4,5,6,7,0,1,2], 5) #ANSWER = 4"
   ]
  },
  {
   "cell_type": "code",
   "execution_count": 14,
   "metadata": {},
   "outputs": [
    {
     "data": {
      "text/plain": [
       "0"
      ]
     },
     "execution_count": 14,
     "metadata": {},
     "output_type": "execute_result"
    }
   ],
   "source": [
    "\n",
    "class Solution:\n",
    "    def findMin(self, nums: list[int]) -> int:\n",
    "        l, r = 0, len(nums) - 1\n",
    "        ans = nums[0]\n",
    "        while l <= r:\n",
    "            mid = r + l // 2\n",
    "            if nums[mid] >= nums[l]:\n",
    "                if nums[mid] >= nums[r]:\n",
    "                    l = mid + 1\n",
    "                else:\n",
    "                    r = mid - 1\n",
    "            else:\n",
    "                r = mid - 1\n",
    "            ans = min(ans, nums[mid])\n",
    "        return(ans)\n",
    "\n",
    "Solution.findMin(Solution,[3,4,5,0,1,2])\n",
    "# [0,1,2,3,4]\n",
    "# [4,0,1,2,3]\n",
    "# [3,4,0,1,2]\n",
    "# [2,3,4,0,1]\n",
    "# [1,2,3,4,0]"
   ]
  },
  {
   "cell_type": "code",
   "execution_count": null,
   "metadata": {},
   "outputs": [
    {
     "data": {
      "text/plain": [
       "True"
      ]
     },
     "execution_count": 1,
     "metadata": {},
     "output_type": "execute_result"
    }
   ],
   "source": [
    "def sub(f,s):\n",
    "    for i in f:\n",
    "        if i == s[0]:\n",
    "            s.remove(s[0])\n",
    "    if len(s) > 0 :\n",
    "        return False\n",
    "    return True\n",
    "sub([5,1,22,25,6,-1,8,10],[1,6,-1,10])"
   ]
  },
  {
   "cell_type": "code",
   "execution_count": null,
   "metadata": {},
   "outputs": [
    {
     "data": {
      "text/plain": [
       "'Yes'"
      ]
     },
     "execution_count": 3,
     "metadata": {},
     "output_type": "execute_result"
    }
   ],
   "source": [
    "def solve (N, A):\n",
    "    counter = 0\n",
    "    l,r = 0,1\n",
    "    while r <= len(A):\n",
    "        if counter > 1:\n",
    "            return \"No\"\n",
    "        if r < l:\n",
    "            counter+=1\n",
    "        l+=1\n",
    "        r+=1\n",
    "    return \"Yes\"\n",
    "solve(0,[1,2,3,4])"
   ]
  },
  {
   "cell_type": "code",
   "execution_count": 19,
   "metadata": {},
   "outputs": [
    {
     "data": {
      "text/plain": [
       "-1"
      ]
     },
     "execution_count": 19,
     "metadata": {},
     "output_type": "execute_result"
    }
   ],
   "source": [
    "def solution(a):\n",
    "    seen = set()\n",
    "    for i in a:\n",
    "        if i in seen:\n",
    "            return i\n",
    "        seen.add(i)\n",
    "    return -1\n",
    "solution([2,1,3,5,3,2])"
   ]
  },
  {
   "cell_type": "code",
   "execution_count": 4,
   "metadata": {},
   "outputs": [
    {
     "name": "stdout",
     "output_type": "stream",
     "text": [
      "321\n"
     ]
    }
   ],
   "source": [
    "def Q1():\n",
    "    num = input()\n",
    "    ans = ''\n",
    "    for i in range(len(num) - 1, -1, -1):\n",
    "        ans += num[i]\n",
    "    print(ans)\n",
    "Q1()"
   ]
  },
  {
   "cell_type": "code",
   "execution_count": 1,
   "metadata": {},
   "outputs": [],
   "source": [
    "class ListNode:\n",
    "    def __init__(self, val=0, next=None):\n",
    "        self.val = val\n",
    "        self.next = next\n",
    "class Solution:\n",
    "    def reverseList(self, head: ListNode) -> ListNode:\n",
    "        ans = None\n",
    "        while head != None:\n",
    "            temp = head\n",
    "            head = head.next\n",
    "            temp.next = ans\n",
    "            ans = temp\n",
    "        return ans            "
   ]
  },
  {
   "cell_type": "code",
   "execution_count": null,
   "metadata": {},
   "outputs": [],
   "source": [
    "class Solution:\n",
    "    def mergeTwoLists(self, list1: ListNode, list2: ListNode) -> ListNode:\n",
    "        ans = ListNode()\n",
    "        tail = ans\n",
    "        while list1 and list2:\n",
    "            if list1.val < list2.val:\n",
    "                tail.next = list1\n",
    "                list1 = list1.next\n",
    "            else:\n",
    "                tail.next = list2\n",
    "                list2 = list2.next\n",
    "            tail = tail.next\n",
    "        if list1:\n",
    "            tail.next = list1\n",
    "        elif list2:\n",
    "            tail.next = list2\n",
    "        return ans.next"
   ]
  },
  {
   "cell_type": "code",
   "execution_count": 5,
   "metadata": {},
   "outputs": [
    {
     "data": {
      "text/plain": [
       "'msj'"
      ]
     },
     "execution_count": 5,
     "metadata": {},
     "output_type": "execute_result"
    }
   ],
   "source": [
    "def lel():\n",
    "    l1 = input()\n",
    "    l2 = input()\n",
    "    l3 = input()\n",
    "    l4 = input()\n",
    "    word = (l1 + l2 + l3 + l4)\n",
    "    compare = sorted(word)\n",
    "    compare.pop() \n",
    "    ans = ''\n",
    "    for i in range(len(word) - 1, -1, -1):\n",
    "        if word[i] in compare:\n",
    "            ans+= word[i]\n",
    "    return ans\n",
    "lel()"
   ]
  },
  {
   "cell_type": "code",
   "execution_count": null,
   "metadata": {},
   "outputs": [],
   "source": [
    "# Definition for singly-linked list.\n",
    "# class ListNode:\n",
    "#     def __init__(self, x):\n",
    "#         self.val = x\n",
    "#         self.next = None\n",
    "\n",
    "class Solution:\n",
    "    def hasCycle(self, head: Optional[ListNode]) -> bool:\n",
    "        track = set()\n",
    "        while head:\n",
    "            if head in track:\n",
    "                return True\n",
    "            track.add(head)\n",
    "            head = head.next\n",
    "        return False  \n",
    "        "
   ]
  },
  {
   "cell_type": "code",
   "execution_count": 13,
   "metadata": {},
   "outputs": [
    {
     "data": {
      "text/plain": [
       "54421"
      ]
     },
     "execution_count": 13,
     "metadata": {},
     "output_type": "execute_result"
    }
   ],
   "source": [
    "def descending_order(num):\n",
    "    ans = []\n",
    "    ans2 = ''\n",
    "    for i in str(num):\n",
    "        ans.append(i)\n",
    "    ans.sort()\n",
    "    ans.reverse()\n",
    "    for j in ans:\n",
    "        ans2 += j\n",
    "    return int(ans2)\n",
    "\n",
    "descending_order(42145)\n"
   ]
  },
  {
   "cell_type": "code",
   "execution_count": 1,
   "metadata": {},
   "outputs": [
    {
     "data": {
      "text/plain": [
       "'1100'"
      ]
     },
     "execution_count": 1,
     "metadata": {},
     "output_type": "execute_result"
    }
   ],
   "source": [
    "def binary(x, y):\n",
    "    total, final = (x+y), ''\n",
    "    while total > 0:\n",
    "        remain = str(total%2)\n",
    "        total = total//2\n",
    "        final += remain\n",
    "    return final[::-1]\n",
    "\n",
    "binary(6,6)"
   ]
  },
  {
   "cell_type": "code",
   "execution_count": 78,
   "metadata": {},
   "outputs": [
    {
     "data": {
      "text/plain": [
       "[80, 64, 320, 40, 160]"
      ]
     },
     "execution_count": 78,
     "metadata": {},
     "output_type": "execute_result"
    }
   ],
   "source": [
    "class Solution:\n",
    "    def productExceptSelf(self, nums: list[int]) -> list[int]:\n",
    "        ans = [1] * len(nums)\n",
    "        before = []\n",
    "        after = []\n",
    "        for i in range(len(nums)):\n",
    "            before.append(ans[i - 1])\n",
    "            ans[i] = nums[i] * ans[i - 1]\n",
    "        ans = [1] * len(nums)\n",
    "        revAns = list(reversed(nums))\n",
    "        for i in range(len(nums)):\n",
    "            after.append(ans[i - 1])\n",
    "            ans[i] = revAns[i] * ans[i - 1]\n",
    "        right = list(reversed(after))\n",
    "        for i in range(len(before)):\n",
    "            before[i] = before[i] * right[i]\n",
    "        return before\n",
    "\n",
    "\n",
    "Solution.productExceptSelf(Solution,[4,5,1,8,2])"
   ]
  },
  {
   "cell_type": "code",
   "execution_count": 60,
   "metadata": {},
   "outputs": [
    {
     "data": {
      "text/plain": [
       "24157817"
      ]
     },
     "execution_count": 60,
     "metadata": {},
     "output_type": "execute_result"
    }
   ],
   "source": [
    "class Solution:\n",
    "    def fib(self, n: int) -> int:\n",
    "        if (n == 0):\n",
    "            return 0\n",
    "        if (n == 1):\n",
    "            return 1\n",
    "        return Solution.fib(self, n-1) + Solution.fib(self, n-2)\n",
    "Solution.fib(Solution,37)"
   ]
  },
  {
   "cell_type": "code",
   "execution_count": null,
   "metadata": {},
   "outputs": [],
   "source": [
    "class Solution:\n",
    "    def invertTree(self, root: Optional[TreeNode]) -> Optional[TreeNode]:\n",
    "        if root == None:\n",
    "            return None\n",
    "        \n",
    "        temp = root.left\n",
    "        root.left = root.right\n",
    "        root.right = temp\n",
    "        \n",
    "        self.invertTree(root.left)\n",
    "        self.invertTree(root.right)\n",
    "        return root"
   ]
  },
  {
   "cell_type": "code",
   "execution_count": 2,
   "metadata": {},
   "outputs": [
    {
     "data": {
      "text/plain": [
       "3"
      ]
     },
     "execution_count": 2,
     "metadata": {},
     "output_type": "execute_result"
    }
   ],
   "source": [
    "class Solution:\n",
    "    def coinChange(self, coins: list[int], amount: int) -> int:\n",
    "        ans,r = 0, 0\n",
    "        coins = list(reversed(sorted(coins)))\n",
    "        if amount == 0:\n",
    "            return 0\n",
    "        while r < len(coins):\n",
    "            if amount - coins[r] > 0:\n",
    "                amount = amount - coins[r]\n",
    "                ans += 1\n",
    "            elif amount - coins[r] < 0:\n",
    "                r+=1\n",
    "            elif amount - coins[r] == 0:\n",
    "                amount = amount - coins[r]\n",
    "                ans +=1\n",
    "                return ans\n",
    "        return -1\n",
    "Solution.coinChange(Solution,[1,3,4,5],7)\n",
    "        "
   ]
  },
  {
   "cell_type": "code",
   "execution_count": 30,
   "metadata": {},
   "outputs": [
    {
     "name": "stdout",
     "output_type": "stream",
     "text": [
      "{1: [1, 1], 2: [], 3: [3], 4: [4], 5: [5], 6: []}\n"
     ]
    },
    {
     "data": {
      "text/plain": [
       "250"
      ]
     },
     "execution_count": 30,
     "metadata": {},
     "output_type": "execute_result"
    }
   ],
   "source": [
    "def score(dice):\n",
    "    total = 0\n",
    "    values = {1:[],2:[],3:[],4:[],5:[],6:[]}\n",
    "    for i in dice:\n",
    "        if i in dice:\n",
    "            values[i].append(i)\n",
    "    for i in values:\n",
    "        if len(values[i]) >= 3:\n",
    "            if 1 in values[i]:\n",
    "                total += 1000\n",
    "                values[i].pop()\n",
    "                values[i].pop()\n",
    "                values[i].pop()\n",
    "                if len(values[i]) > 0:\n",
    "                    total+= 100 * len(values[i])\n",
    "            elif 5 in values[i]:\n",
    "                total += 500\n",
    "                values[i].pop()\n",
    "                values[i].pop()\n",
    "                values[i].pop()\n",
    "                if len(values[i]) > 0:\n",
    "                    total+= 500 * len(values[i])\n",
    "            elif 4 in values[i]:\n",
    "                total += 400\n",
    "            elif 3 in values[i]:\n",
    "                total += 300\n",
    "            elif 2 in values[i]:\n",
    "                total += 200\n",
    "            elif 6 in values[i]:\n",
    "                total += 600\n",
    "        else:\n",
    "            if 1 in values[i]:\n",
    "                total+= 100 * len(values[i])\n",
    "            elif 5 in values[i]:\n",
    "                total+= 50 * len(values[i])\n",
    "    return total\n",
    "score([5,1,3,4,1])"
   ]
  }
 ],
 "metadata": {
  "kernelspec": {
   "display_name": "Python 3.10.4 64-bit",
   "language": "python",
   "name": "python3"
  },
  "language_info": {
   "codemirror_mode": {
    "name": "ipython",
    "version": 3
   },
   "file_extension": ".py",
   "mimetype": "text/x-python",
   "name": "python",
   "nbconvert_exporter": "python",
   "pygments_lexer": "ipython3",
   "version": "3.10.5"
  },
  "orig_nbformat": 4,
  "vscode": {
   "interpreter": {
    "hash": "aee8b7b246df8f9039afb4144a1f6fd8d2ca17a180786b69acc140d282b71a49"
   }
  }
 },
 "nbformat": 4,
 "nbformat_minor": 2
}
